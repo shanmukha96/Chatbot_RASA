{
 "cells": [
  {
   "cell_type": "code",
   "execution_count": 169,
   "metadata": {
    "scrolled": false
   },
   "outputs": [
    {
     "name": "stdout",
     "output_type": "stream",
     "text": [
      "\n",
      "\n",
      "name: 635, 100 Feet Road, Koramangala 6th Block, Bangalore\n",
      "address :635, 100 Feet Road, Koramangala 6th Block, Bangalore\n",
      "rating :4.2\n",
      "\n",
      "name: 3, Brindavan Complex, 20th Main, Maruthi Nagar Main Road, 1st Stage, BTM Layout\n",
      "address :3, Brindavan Complex, 20th Main, Maruthi Nagar Main Road, 1st Stage, BTM Layout\n",
      "rating :4.3\n",
      "\n",
      "name: 16, 1st Main Road, Muneswara Nagar, Sector 6, HSR, Bangalore\n",
      "address :16, 1st Main Road, Muneswara Nagar, Sector 6, HSR, Bangalore\n",
      "rating :4.3\n",
      "\n",
      "name: 96, 29th Main, 23rd Cross, 2nd Stage, BTM, Bangalore\n",
      "address :96, 29th Main, 23rd Cross, 2nd Stage, BTM, Bangalore\n",
      "rating :4.3\n",
      "\n",
      "name: 32/2G, NCPR Industrial Layout, Doddanakundi Industrial Area 2, Seetharampalya, Hoodi, Whitefield, Bangalore\n",
      "address :32/2G, NCPR Industrial Layout, Doddanakundi Industrial Area 2, Seetharampalya, Hoodi, Whitefield, Bangalore\n",
      "rating :4.3\n",
      "\n",
      "name: 124, KHB Colony, 1st Cross, Near Jyothi Nivas College, Koramangala 5th Block, Bangalore\n",
      "address :124, KHB Colony, 1st Cross, Near Jyothi Nivas College, Koramangala 5th Block, Bangalore\n",
      "rating :4.4\n"
     ]
    }
   ],
   "source": [
    "# this python program to test the zomato api\n",
    "import pprint, json\n",
    "import zomatopy\n",
    "\n",
    "# specify location and cuisine\n",
    "loc = 'Bangalore'\n",
    "cuisine = 'Italian'\n",
    "count = 100\n",
    "price_min = 300\n",
    "price_max = 700\n",
    "\n",
    "#lets try some raw data\n",
    "base_url = \"https://developers.zomato.com/api/v2.1/\"\n",
    "headers = {'Accept': 'application/json', 'user-key': \"4734a24a9caf5cd3ae0a0e9161e66212\"}\n",
    "\n",
    "# provide API key and initialise a 'zomato app' object\n",
    "config={ \"user_key\": \"4734a24a9caf5cd3ae0a0e9161e66212\"}\n",
    "zomato = zomatopy.initialize_app(config)\n",
    "cuisines_dict={'bakery':5,'chinese':25,'cafe':30,'italian':55,'biryani':7,'north indian':50,'south indian':85}\n",
    "\n",
    "# get_location gets the lat-long coordinates of 'loc'\n",
    "loc_detail=zomato.get_location(loc, 1)\n",
    "loc_detail=json.loads(location_detail)\n",
    "if loc_detail['status'] == 'success':\n",
    "    #print(\"location found\")\n",
    "    lat = loc_detail['location_suggestions'][0]['latitude']\n",
    "    lon = loc_detail['location_suggestions'][0]['longitude']\n",
    "    data = zomato.restaurant_search( query='', latitude=lat, longitude=lon, cuisines=str(cuisines_dict.get(cuisine)), limit=100)\n",
    "    data = json.loads(data)\n",
    "    if data['results_found'] > 0:\n",
    "        added=0\n",
    "        res=''\n",
    "        for i in data['restaurants']:\n",
    "            if i['restaurant']['average_cost_for_two'] > price_min and i['restaurant']['average_cost_for_two'] < price_max and added <= 5:\n",
    "                res = res + \"\\n\\nname: \"+str(i['restaurant']['location']['address'])+\"\\naddress :\"+str(i['restaurant']['location']['address'])+\"\\nrating :\"+str(i['restaurant']['user_rating']['aggregate_rating'])\n",
    "                added = added +1\n",
    "    else:\n",
    "        print(\"results not found\")\n",
    "\n",
    "else:\n",
    "    print(\"location invalid\")\n",
    "\n",
    "\n",
    "print(res) "
   ]
  },
  {
   "cell_type": "code",
   "execution_count": 164,
   "metadata": {},
   "outputs": [
    {
     "data": {
      "text/plain": [
       "'https://developers.zomato.com/api/v2.1/search?q=&count=100&lat=12.929415&lon=77.626613&cuisines=None&sort=rating&order=desc'"
      ]
     },
     "execution_count": 164,
     "metadata": {},
     "output_type": "execute_result"
    }
   ],
   "source": [
    "final"
   ]
  },
  {
   "cell_type": "code",
   "execution_count": 165,
   "metadata": {},
   "outputs": [
    {
     "name": "stdout",
     "output_type": "stream",
     "text": [
      "Help on Zomato in module zomatopy object:\n",
      "\n",
      "class Zomato(builtins.object)\n",
      " |  Zomato(config)\n",
      " |  \n",
      " |  Methods defined here:\n",
      " |  \n",
      " |  __init__(self, config)\n",
      " |      Initialize self.  See help(type(self)) for accurate signature.\n",
      " |  \n",
      " |  get_categories(self)\n",
      " |      Takes no input.\n",
      " |      Returns a dictionary of IDs and their respective category names.\n",
      " |  \n",
      " |  get_city_ID(self, city_name)\n",
      " |      Takes City Name as input.\n",
      " |      Returns the ID for the city given as input.\n",
      " |  \n",
      " |  get_city_name(self, city_ID)\n",
      " |      Takes City ID as input.\n",
      " |      Returns the name of the city ID given as input.\n",
      " |  \n",
      " |  get_collections(self, city_ID, limit=None)\n",
      " |      Takes City ID as input. limit parameter is optional.\n",
      " |      Returns dictionary of Zomato restaurant collections in a city and their respective URLs.\n",
      " |  \n",
      " |  get_cuisines(self, city_ID)\n",
      " |      Takes City ID as input.\n",
      " |      Returns a sorted dictionary of all cuisine IDs and their respective cuisine names.\n",
      " |  \n",
      " |  get_establishment_types(self, city_ID)\n",
      " |      Takes City ID as input.\n",
      " |      Returns a sorted dictionary of all establishment type IDs and their respective establishment type names.\n",
      " |  \n",
      " |  get_location(self, query='', limit=5)\n",
      " |      Takes either query, latitude and longitude or cuisine as input.\n",
      " |      Returns a list of Restaurant IDs.\n",
      " |  \n",
      " |  get_nearby_restaurants(self, latitude, longitude)\n",
      " |      Takes the latitude and longitude as inputs.\n",
      " |      Returns a dictionary of Restaurant IDs and their corresponding Zomato URLs.\n",
      " |  \n",
      " |  get_restaurant(self, restaurant_ID)\n",
      " |      Takes Restaurant ID as input.\n",
      " |      Returns a dictionary of restaurant details.\n",
      " |  \n",
      " |  is_key_invalid(self, a)\n",
      " |      Checks if the API key provided is valid or invalid.\n",
      " |      If invalid, throws a InvalidKey Exception.\n",
      " |  \n",
      " |  is_rate_exceeded(self, a)\n",
      " |      Checks if the request limit for the API key is exceeded or not.\n",
      " |      If exceeded, throws a ApiLimitExceeded Exception.\n",
      " |  \n",
      " |  is_valid_city_id(self, city_ID)\n",
      " |      Checks if the City ID is valid or invalid.\n",
      " |      If invalid, throws a InvalidCityId Exception.\n",
      " |  \n",
      " |  is_valid_restaurant_id(self, restaurant_ID)\n",
      " |      Checks if the Restaurant ID is valid or invalid.\n",
      " |      If invalid, throws a InvalidRestaurantId Exception.\n",
      " |  \n",
      " |  restaurant_search(self, query='', latitude='', longitude='', cuisines='', limit=5)\n",
      " |      Takes either query, latitude and longitude or cuisine as input.\n",
      " |      Returns a list of Restaurant IDs.\n",
      " |  \n",
      " |  restaurant_search_by_keyword(self, query='', cuisines='', limit=5)\n",
      " |      Takes either query, latitude and longitude or cuisine as input.\n",
      " |      Returns a list of Restaurant IDs.\n",
      " |  \n",
      " |  ----------------------------------------------------------------------\n",
      " |  Data descriptors defined here:\n",
      " |  \n",
      " |  __dict__\n",
      " |      dictionary for instance variables (if defined)\n",
      " |  \n",
      " |  __weakref__\n",
      " |      list of weak references to the object (if defined)\n",
      "\n"
     ]
    }
   ],
   "source": [
    "help(zomato)"
   ]
  }
 ],
 "metadata": {
  "kernelspec": {
   "display_name": "Python 3",
   "language": "python",
   "name": "python3"
  },
  "language_info": {
   "codemirror_mode": {
    "name": "ipython",
    "version": 3
   },
   "file_extension": ".py",
   "mimetype": "text/x-python",
   "name": "python",
   "nbconvert_exporter": "python",
   "pygments_lexer": "ipython3",
   "version": "3.7.6"
  }
 },
 "nbformat": 4,
 "nbformat_minor": 4
}
